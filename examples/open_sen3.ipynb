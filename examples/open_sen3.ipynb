{
 "cells": [
  {
   "cell_type": "code",
   "execution_count": null,
   "id": "cf494469-0283-4a89-904d-ded017c4bbbf",
   "metadata": {},
   "outputs": [],
   "source": [
    "%%time\n",
    "import xarray as xr"
   ]
  },
  {
   "cell_type": "markdown",
   "id": "95cdbdbb-edd8-4ae4-b9ac-6eecd36bc89e",
   "metadata": {},
   "source": [
    "---\n",
    "## Sentinel-3 L1 OLCI EFR"
   ]
  },
  {
   "cell_type": "code",
   "execution_count": null,
   "id": "3ade1cd0-0fa9-4f14-9c03-3f1ff0f26042",
   "metadata": {},
   "outputs": [],
   "source": [
    "%%time\n",
    "path = (\n",
    "    \"\"\n",
    ")"
   ]
  },
  {
   "cell_type": "code",
   "execution_count": null,
   "id": "a4c6364b-5573-4cfd-9426-3f68aa8fb469",
   "metadata": {
    "scrolled": true
   },
   "outputs": [],
   "source": [
    "%%time\n",
    "dt = xr.open_datatree(path, engine=\"zarr\")\n",
    "dt"
   ]
  },
  {
   "cell_type": "code",
   "execution_count": null,
   "id": "b82706dd-be5e-4f55-8b0d-21ea5d9d6403",
   "metadata": {},
   "outputs": [],
   "source": [
    "%%time\n",
    "ds = dt.S01SIWGRD_20240101T020753_0025_A297_5CB2_064575_VH.measurements\n",
    "ds"
   ]
  },
  {
   "cell_type": "code",
   "execution_count": null,
   "id": "d15cd707-393a-4f80-85ea-580b16236e70",
   "metadata": {},
   "outputs": [],
   "source": [
    "%%time\n",
    "ds.grd[::10, ::10].plot(vmax=200)"
   ]
  },
  {
   "cell_type": "markdown",
   "id": "80739f3a-455c-4c74-9c0c-bd765d75a194",
   "metadata": {},
   "source": [
    "----\n",
    "## Sentinel-3 L2 SLSTR FPR"
   ]
  },
  {
   "cell_type": "code",
   "execution_count": null,
   "id": "6594f617-380a-40fc-872c-e7379e247f13",
   "metadata": {},
   "outputs": [],
   "source": [
    "%%time\n",
    "path = (\n",
    "    \"\"\n",
    ")"
   ]
  },
  {
   "cell_type": "code",
   "execution_count": null,
   "id": "edc2a565-85fd-467b-b8bc-97d9ec00536c",
   "metadata": {
    "scrolled": true
   },
   "outputs": [],
   "source": [
    "%%time\n",
    "dt = xr.open_datatree(path, engine=\"zarr\", chunks={})\n",
    "dt"
   ]
  },
  {
   "cell_type": "code",
   "execution_count": null,
   "id": "5b6589c9-6f5b-468e-8300-8394b83ff825",
   "metadata": {},
   "outputs": [],
   "source": [
    "%%time\n",
    "ds = dt.S01SIWSLC_20231119T170635_0027_A293_178F_063021_VH_IW2_249413.measurements\n",
    "ds"
   ]
  },
  {
   "cell_type": "code",
   "execution_count": null,
   "id": "46abf5f3-2b72-482e-a36c-fca31b7bf33c",
   "metadata": {},
   "outputs": [],
   "source": [
    "%%time\n",
    "fig, ax = plt.subplots(1, 2, figsize=(12, 5))\n",
    "ds.slc[::2, ::20].real.plot(ax=ax[0], vmax=100, vmin=0)\n",
    "ds.slc[::2, ::20].imag.plot(ax=ax[1], vmax=100, vmin=0)"
   ]
  }
 ],
 "metadata": {
  "kernelspec": {
   "display_name": "Python 3 (ipykernel)",
   "language": "python",
   "name": "python3"
  },
  "language_info": {
   "codemirror_mode": {
    "name": "ipython",
    "version": 3
   },
   "file_extension": ".py",
   "mimetype": "text/x-python",
   "name": "python",
   "nbconvert_exporter": "python",
   "pygments_lexer": "ipython3",
   "version": "3.12.8"
  }
 },
 "nbformat": 4,
 "nbformat_minor": 5
}
